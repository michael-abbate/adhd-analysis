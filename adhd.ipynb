{
 "cells": [
  {
   "cell_type": "code",
   "execution_count": 1,
   "id": "681fcfdb",
   "metadata": {},
   "outputs": [],
   "source": [
    "# Import packages\n",
    "import pandas as pd\n",
    "import numpy as np\n",
    "import os\n",
    "import statsmodels.api as sm\n",
    "from statsmodels.formula.api import ols\n",
    "import matplotlib.pyplot as plt\n",
    "import seaborn as sns"
   ]
  },
  {
   "cell_type": "markdown",
   "id": "cc32ed5d",
   "metadata": {},
   "source": [
    "### Questions:\n",
    "1. NULL cells and question columns.. do we need them? For log reg and lin reg you already have cols selected?\n",
    "1. Should we only be looking at rows where progress=100, gender filled out, and years of teaching filled out? Had to remove 30 rows for progress<100, 2 other rows for not filling out questions and/or gender/teaching experience.\n",
    "1. Lots of cleaning up to do for form fill data (any column with _TEXT)\n",
    "1. There are duplicate columns (i.e. \"Q26\")... for now im going to assume the later columns are for teacher knowledge of ADHD."
   ]
  },
  {
   "cell_type": "code",
   "execution_count": 2,
   "id": "8600d466",
   "metadata": {},
   "outputs": [],
   "source": [
    "answer_key = {\"26\": 1, \"27\": 1, \"28\": 2, \"29\": 1, \"30\": 2, \"31\": 1, \"32\": 2, \"33\": 2, \"34\": 2, \"35\": 2, \"36\": 1, \"37\": 1, \"38\": 2, \"39\": 2, \"40\": 1, \"41\": 2, \"42\": 1, \"43\": 2, \"44\": 2, \"45\": 2, \"46\": 2, \"47\": 1, \"48\": 1, \"49\": 2, \"50\": 2}"
   ]
  },
  {
   "cell_type": "code",
   "execution_count": 6,
   "id": "faaa1ad0",
   "metadata": {
    "scrolled": false
   },
   "outputs": [
    {
     "name": "stdout",
     "output_type": "stream",
     "text": [
      "There are 82 responses in the original file. We will only be analyzing teachers who completed the survey.\n",
      "Analyzing 50 responses.\n"
     ]
    }
   ],
   "source": [
    "df = pd.read_csv('adhd.csv')\n",
    "print(\"There are\", df.shape[0], \"responses in the original file. We will only be analyzing teachers who completed the survey.\")\n",
    "df = df[(df['Progress']==100) & (df['Q4'].notnull()) & (df['Q8'].notnull())].reset_index(drop=True)\n",
    "print(\"Analyzing\", df.shape[0], \"responses.\")"
   ]
  },
  {
   "cell_type": "code",
   "execution_count": 9,
   "id": "65d6f449",
   "metadata": {},
   "outputs": [
    {
     "name": "stdout",
     "output_type": "stream",
     "text": [
      "Cleaning up data...\n",
      "Assigned student genders.\n",
      "Assigned teacher years of experience buckets.\n",
      "Assigned teacher genders.\n"
     ]
    }
   ],
   "source": [
    "print(\"Cleaning up data...\")\n",
    "# Clean up vignettes to use gender\n",
    "df[\"student_gender\"] = np.where((df[\"FL_16_DO\"] == \"Block3\") | (df[\"FL_16_DO\"] == \"Block6\"), \"male\", \"female\")\n",
    "print(\"Assigned student genders.\")\n",
    "# Clean up teaching years col\n",
    "df.loc[df['Q8']=='16 years', 'Q8'] = 16\n",
    "df['Q8'] = df['Q8'].astype('int')\n",
    "df['years_of_teaching'] = np.where(df[\"Q8\"] < 5, \"<5 Years\",\n",
    "                                   np.where((df[\"Q8\"]>=5) & (df[\"Q8\"]<=10), \"5-10 Years\",\n",
    "                                           np.where(df[\"Q8\"]>10, \">10 Years\",\"Other\")))\n",
    "print(\"Assigned teacher years of experience buckets.\")\n",
    "\n",
    "\n",
    "# Clean up teacher gender\n",
    "df[\"teacher_gender\"] = np.where(df[\"Q4\"] == 1, \"male\", \"female\")\n",
    "print(\"Assigned teacher genders.\")"
   ]
  },
  {
   "cell_type": "code",
   "execution_count": 10,
   "id": "6f8281ac",
   "metadata": {},
   "outputs": [
    {
     "name": "stdout",
     "output_type": "stream",
     "text": [
      "Calculating teacher knowledge of ADHD...\n"
     ]
    }
   ],
   "source": [
    "print(\"Calculating teacher knowledge of ADHD...\")\n",
    "grades = []\n",
    "for i, row in df.iterrows():\n",
    "    curr_grade = 0\n",
    "    for question_num in range(26,51):\n",
    "        col = 'Q'+str(question_num)\n",
    "        if row[col]==answer_key[str(question_num)]:\n",
    "            curr_grade += 1\n",
    "    grades.append(curr_grade)\n",
    "    if curr_grade == 0:\n",
    "        print(row)\n",
    "df['teacher_knowledge'] = grades"
   ]
  },
  {
   "cell_type": "code",
   "execution_count": 11,
   "id": "c87c1472",
   "metadata": {},
   "outputs": [
    {
     "data": {
      "text/html": [
       "<div>\n",
       "<style scoped>\n",
       "    .dataframe tbody tr th:only-of-type {\n",
       "        vertical-align: middle;\n",
       "    }\n",
       "\n",
       "    .dataframe tbody tr th {\n",
       "        vertical-align: top;\n",
       "    }\n",
       "\n",
       "    .dataframe thead th {\n",
       "        text-align: right;\n",
       "    }\n",
       "</style>\n",
       "<table border=\"1\" class=\"dataframe\">\n",
       "  <thead>\n",
       "    <tr style=\"text-align: right;\">\n",
       "      <th></th>\n",
       "      <th>teacher_knowledge</th>\n",
       "      <th>years_of_teaching</th>\n",
       "      <th>teacher_gender</th>\n",
       "      <th>student_gender</th>\n",
       "      <th>degree_of_need</th>\n",
       "    </tr>\n",
       "  </thead>\n",
       "  <tbody>\n",
       "    <tr>\n",
       "      <th>0</th>\n",
       "      <td>20</td>\n",
       "      <td>5-10 Years</td>\n",
       "      <td>female</td>\n",
       "      <td>male</td>\n",
       "      <td>7.0</td>\n",
       "    </tr>\n",
       "    <tr>\n",
       "      <th>1</th>\n",
       "      <td>21</td>\n",
       "      <td>&lt;5 Years</td>\n",
       "      <td>female</td>\n",
       "      <td>male</td>\n",
       "      <td>7.0</td>\n",
       "    </tr>\n",
       "    <tr>\n",
       "      <th>2</th>\n",
       "      <td>23</td>\n",
       "      <td>&gt;10 Years</td>\n",
       "      <td>female</td>\n",
       "      <td>female</td>\n",
       "      <td>6.0</td>\n",
       "    </tr>\n",
       "    <tr>\n",
       "      <th>3</th>\n",
       "      <td>24</td>\n",
       "      <td>5-10 Years</td>\n",
       "      <td>female</td>\n",
       "      <td>female</td>\n",
       "      <td>10.0</td>\n",
       "    </tr>\n",
       "    <tr>\n",
       "      <th>4</th>\n",
       "      <td>20</td>\n",
       "      <td>&lt;5 Years</td>\n",
       "      <td>female</td>\n",
       "      <td>female</td>\n",
       "      <td>4.0</td>\n",
       "    </tr>\n",
       "  </tbody>\n",
       "</table>\n",
       "</div>"
      ],
      "text/plain": [
       "   teacher_knowledge years_of_teaching teacher_gender student_gender  \\\n",
       "0                 20        5-10 Years         female           male   \n",
       "1                 21          <5 Years         female           male   \n",
       "2                 23         >10 Years         female         female   \n",
       "3                 24        5-10 Years         female         female   \n",
       "4                 20          <5 Years         female         female   \n",
       "\n",
       "   degree_of_need  \n",
       "0             7.0  \n",
       "1             7.0  \n",
       "2             6.0  \n",
       "3            10.0  \n",
       "4             4.0  "
      ]
     },
     "execution_count": 11,
     "metadata": {},
     "output_type": "execute_result"
    }
   ],
   "source": [
    "# column_definitions = [gender, years of teaching, teacher knowledge of ADHD, vignette]\n",
    "# regression_cols = ['Q4','Q8','teacher_knowledge','years_of_teaching','teacher_gender','student_gender', 'FL_16_DO', 'Q25_1']\n",
    "regression_cols = ['teacher_knowledge','years_of_teaching','teacher_gender','student_gender', 'Q25_1']\n",
    "df_v0 = df.loc[:,regression_cols]\n",
    "# df_v0 = df_v0.rename(columns={'Q4':'teacher_gender', 'Q8':'years_of_teaching', 'FL_16_DO':'vignette', 'Q25_1':'degree_of_need' })\n",
    "df_v0 = df_v0.rename(columns={ 'Q25_1':'degree_of_need' })\n",
    "df_v0.head()"
   ]
  },
  {
   "cell_type": "code",
   "execution_count": 12,
   "id": "c50ae7c3",
   "metadata": {},
   "outputs": [
    {
     "data": {
      "text/html": [
       "<table class=\"simpletable\">\n",
       "<caption>OLS Regression Results</caption>\n",
       "<tr>\n",
       "  <th>Dep. Variable:</th>     <td>degree_of_need</td>  <th>  R-squared:         </th> <td>   0.131</td>\n",
       "</tr>\n",
       "<tr>\n",
       "  <th>Model:</th>                   <td>OLS</td>       <th>  Adj. R-squared:    </th> <td>   0.032</td>\n",
       "</tr>\n",
       "<tr>\n",
       "  <th>Method:</th>             <td>Least Squares</td>  <th>  F-statistic:       </th> <td>   1.329</td>\n",
       "</tr>\n",
       "<tr>\n",
       "  <th>Date:</th>             <td>Thu, 09 Feb 2023</td> <th>  Prob (F-statistic):</th>  <td> 0.270</td> \n",
       "</tr>\n",
       "<tr>\n",
       "  <th>Time:</th>                 <td>00:40:43</td>     <th>  Log-Likelihood:    </th> <td> -105.88</td>\n",
       "</tr>\n",
       "<tr>\n",
       "  <th>No. Observations:</th>      <td>    50</td>      <th>  AIC:               </th> <td>   223.8</td>\n",
       "</tr>\n",
       "<tr>\n",
       "  <th>Df Residuals:</th>          <td>    44</td>      <th>  BIC:               </th> <td>   235.2</td>\n",
       "</tr>\n",
       "<tr>\n",
       "  <th>Df Model:</th>              <td>     5</td>      <th>                     </th>     <td> </td>   \n",
       "</tr>\n",
       "<tr>\n",
       "  <th>Covariance Type:</th>      <td>nonrobust</td>    <th>                     </th>     <td> </td>   \n",
       "</tr>\n",
       "</table>\n",
       "<table class=\"simpletable\">\n",
       "<tr>\n",
       "                 <td></td>                   <th>coef</th>     <th>std err</th>      <th>t</th>      <th>P>|t|</th>  <th>[0.025</th>    <th>0.975]</th>  \n",
       "</tr>\n",
       "<tr>\n",
       "  <th>Intercept</th>                      <td>    9.2310</td> <td>    3.754</td> <td>    2.459</td> <td> 0.018</td> <td>    1.665</td> <td>   16.797</td>\n",
       "</tr>\n",
       "<tr>\n",
       "  <th>teacher_gender[T.male]</th>         <td>   -1.1460</td> <td>    1.400</td> <td>   -0.819</td> <td> 0.417</td> <td>   -3.967</td> <td>    1.675</td>\n",
       "</tr>\n",
       "<tr>\n",
       "  <th>years_of_teaching[T.<5 Years]</th>  <td>   -2.3528</td> <td>    0.936</td> <td>   -2.514</td> <td> 0.016</td> <td>   -4.239</td> <td>   -0.467</td>\n",
       "</tr>\n",
       "<tr>\n",
       "  <th>years_of_teaching[T.>10 Years]</th> <td>   -0.8827</td> <td>    0.696</td> <td>   -1.268</td> <td> 0.212</td> <td>   -2.286</td> <td>    0.520</td>\n",
       "</tr>\n",
       "<tr>\n",
       "  <th>student_gender[T.male]</th>         <td>   -0.3987</td> <td>    0.660</td> <td>   -0.604</td> <td> 0.549</td> <td>   -1.730</td> <td>    0.932</td>\n",
       "</tr>\n",
       "<tr>\n",
       "  <th>teacher_knowledge</th>              <td>   -0.0623</td> <td>    0.174</td> <td>   -0.358</td> <td> 0.722</td> <td>   -0.413</td> <td>    0.288</td>\n",
       "</tr>\n",
       "</table>\n",
       "<table class=\"simpletable\">\n",
       "<tr>\n",
       "  <th>Omnibus:</th>       <td> 1.402</td> <th>  Durbin-Watson:     </th> <td>   1.843</td>\n",
       "</tr>\n",
       "<tr>\n",
       "  <th>Prob(Omnibus):</th> <td> 0.496</td> <th>  Jarque-Bera (JB):  </th> <td>   1.103</td>\n",
       "</tr>\n",
       "<tr>\n",
       "  <th>Skew:</th>          <td>-0.362</td> <th>  Prob(JB):          </th> <td>   0.576</td>\n",
       "</tr>\n",
       "<tr>\n",
       "  <th>Kurtosis:</th>      <td> 2.935</td> <th>  Cond. No.          </th> <td>    260.</td>\n",
       "</tr>\n",
       "</table><br/><br/>Notes:<br/>[1] Standard Errors assume that the covariance matrix of the errors is correctly specified."
      ],
      "text/plain": [
       "<class 'statsmodels.iolib.summary.Summary'>\n",
       "\"\"\"\n",
       "                            OLS Regression Results                            \n",
       "==============================================================================\n",
       "Dep. Variable:         degree_of_need   R-squared:                       0.131\n",
       "Model:                            OLS   Adj. R-squared:                  0.032\n",
       "Method:                 Least Squares   F-statistic:                     1.329\n",
       "Date:                Thu, 09 Feb 2023   Prob (F-statistic):              0.270\n",
       "Time:                        00:40:43   Log-Likelihood:                -105.88\n",
       "No. Observations:                  50   AIC:                             223.8\n",
       "Df Residuals:                      44   BIC:                             235.2\n",
       "Df Model:                           5                                         \n",
       "Covariance Type:            nonrobust                                         \n",
       "==================================================================================================\n",
       "                                     coef    std err          t      P>|t|      [0.025      0.975]\n",
       "--------------------------------------------------------------------------------------------------\n",
       "Intercept                          9.2310      3.754      2.459      0.018       1.665      16.797\n",
       "teacher_gender[T.male]            -1.1460      1.400     -0.819      0.417      -3.967       1.675\n",
       "years_of_teaching[T.<5 Years]     -2.3528      0.936     -2.514      0.016      -4.239      -0.467\n",
       "years_of_teaching[T.>10 Years]    -0.8827      0.696     -1.268      0.212      -2.286       0.520\n",
       "student_gender[T.male]            -0.3987      0.660     -0.604      0.549      -1.730       0.932\n",
       "teacher_knowledge                 -0.0623      0.174     -0.358      0.722      -0.413       0.288\n",
       "==============================================================================\n",
       "Omnibus:                        1.402   Durbin-Watson:                   1.843\n",
       "Prob(Omnibus):                  0.496   Jarque-Bera (JB):                1.103\n",
       "Skew:                          -0.362   Prob(JB):                        0.576\n",
       "Kurtosis:                       2.935   Cond. No.                         260.\n",
       "==============================================================================\n",
       "\n",
       "Notes:\n",
       "[1] Standard Errors assume that the covariance matrix of the errors is correctly specified.\n",
       "\"\"\""
      ]
     },
     "execution_count": 12,
     "metadata": {},
     "output_type": "execute_result"
    }
   ],
   "source": [
    "model_0 = ols('degree_of_need ~ teacher_gender+years_of_teaching+student_gender+teacher_knowledge', data=df_v0).fit()\n",
    "model_0.summary()"
   ]
  },
  {
   "cell_type": "code",
   "execution_count": null,
   "id": "1a524b2e",
   "metadata": {},
   "outputs": [],
   "source": []
  }
 ],
 "metadata": {
  "kernelspec": {
   "display_name": "Python 3 (ipykernel)",
   "language": "python",
   "name": "python3"
  },
  "language_info": {
   "codemirror_mode": {
    "name": "ipython",
    "version": 3
   },
   "file_extension": ".py",
   "mimetype": "text/x-python",
   "name": "python",
   "nbconvert_exporter": "python",
   "pygments_lexer": "ipython3",
   "version": "3.10.9"
  }
 },
 "nbformat": 4,
 "nbformat_minor": 5
}
